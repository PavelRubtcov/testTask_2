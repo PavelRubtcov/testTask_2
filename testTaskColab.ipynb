{
  "nbformat": 4,
  "nbformat_minor": 0,
  "metadata": {
    "colab": {
      "provenance": [],
      "authorship_tag": "ABX9TyPYvhcMHX90fgrtcHazV1BP",
      "include_colab_link": true
    },
    "kernelspec": {
      "name": "python3",
      "display_name": "Python 3"
    },
    "language_info": {
      "name": "python"
    }
  },
  "cells": [
    {
      "cell_type": "markdown",
      "metadata": {
        "id": "view-in-github",
        "colab_type": "text"
      },
      "source": [
        "<a href=\"https://colab.research.google.com/github/PavelRubtcov/testTask_2/blob/main/testTaskColab.ipynb\" target=\"_parent\"><img src=\"https://colab.research.google.com/assets/colab-badge.svg\" alt=\"Open In Colab\"/></a>"
      ]
    },
    {
      "cell_type": "markdown",
      "source": [
        "# TestTask"
      ],
      "metadata": {
        "id": "DHUTfoRZW1yt"
      }
    },
    {
      "cell_type": "code",
      "execution_count": null,
      "metadata": {
        "id": "c5g3CmCIcN-r"
      },
      "outputs": [],
      "source": [
        "!pip install pyngrok --quiet"
      ]
    },
    {
      "cell_type": "code",
      "source": [
        "!git clone https://github.com/PavelRubtcov/testTask_2.git testTask_2"
      ],
      "metadata": {
        "colab": {
          "base_uri": "https://localhost:8080/"
        },
        "id": "Hi_7xDDecVYo",
        "outputId": "2ff5eaac-ca50-40f3-af4c-076ffc760d08"
      },
      "execution_count": null,
      "outputs": [
        {
          "output_type": "stream",
          "name": "stdout",
          "text": [
            "fatal: destination path 'testTask_1' already exists and is not an empty directory.\n"
          ]
        }
      ]
    },
    {
      "cell_type": "code",
      "source": [
        "!pip install -r /content/testTask_1/requires.txt"
      ],
      "metadata": {
        "colab": {
          "base_uri": "https://localhost:8080/"
        },
        "id": "BSvBLA3CceOl",
        "outputId": "6c362449-a7fd-42eb-bec8-c89c2cc03a14"
      },
      "execution_count": null,
      "outputs": [
        {
          "output_type": "stream",
          "name": "stdout",
          "text": [
            "Requirement already satisfied: opencv-python==4.10.0.82 in /usr/local/lib/python3.10/dist-packages (from -r /content/testTask_1/requires.txt (line 1)) (4.10.0.82)\n",
            "Requirement already satisfied: numpy==1.25.0 in /usr/local/lib/python3.10/dist-packages (from -r /content/testTask_1/requires.txt (line 2)) (1.25.0)\n",
            "Requirement already satisfied: Django==5.0.6 in /usr/local/lib/python3.10/dist-packages (from -r /content/testTask_1/requires.txt (line 3)) (5.0.6)\n",
            "Requirement already satisfied: asgiref<4,>=3.7.0 in /usr/local/lib/python3.10/dist-packages (from Django==5.0.6->-r /content/testTask_1/requires.txt (line 3)) (3.8.1)\n",
            "Requirement already satisfied: sqlparse>=0.3.1 in /usr/local/lib/python3.10/dist-packages (from Django==5.0.6->-r /content/testTask_1/requires.txt (line 3)) (0.5.0)\n",
            "Requirement already satisfied: typing-extensions>=4 in /usr/local/lib/python3.10/dist-packages (from asgiref<4,>=3.7.0->Django==5.0.6->-r /content/testTask_1/requires.txt (line 3)) (4.12.2)\n"
          ]
        }
      ]
    },
    {
      "cell_type": "code",
      "source": [
        "%cd /content/testTask_1/testTask"
      ],
      "metadata": {
        "colab": {
          "base_uri": "https://localhost:8080/"
        },
        "id": "E3OsnylNd61F",
        "outputId": "4690f9c0-d3d8-478e-9ef2-c8254ed2a9ef"
      },
      "execution_count": null,
      "outputs": [
        {
          "output_type": "stream",
          "name": "stdout",
          "text": [
            "/content/testTask_1/testTask\n"
          ]
        }
      ]
    },
    {
      "cell_type": "code",
      "source": [
        "from google.colab.output import eval_js\n",
        "print(eval_js(\"google.colab.kernel.proxyPort(8000)\"))\n",
        "\n",
        "from pyngrok import ngrok\n",
        "\n",
        "# получаем токен https://dashboard.ngrok.com/get-started/your-authtoken\n",
        "auth_token = \"2ihJE62GfVBLppi6MpKiKk65wKH_6mBtgKxoKbNNxFNbFvqWH\"\n",
        "ngrok.set_auth_token(auth_token)\n",
        "ngrok.kill()\n",
        "ngstart = ngrok.connect(8000)\n",
        "ngrock_public_url = ngstart.public_url # Это можно для чего-то использовать\n",
        "print(ngstart)\n",
        "print(ngrock_public_url)"
      ],
      "metadata": {
        "colab": {
          "base_uri": "https://localhost:8080/",
          "height": 71
        },
        "id": "pEkFSvZx-c-k",
        "outputId": "c57df915-27d0-458f-e96e-655e4aac6325"
      },
      "execution_count": null,
      "outputs": [
        {
          "output_type": "stream",
          "name": "stdout",
          "text": [
            "https://r651dgwnswb-496ff2e9c6d22116-8000-colab.googleusercontent.com/\n",
            "NgrokTunnel: \"https://07fb-35-185-109-182.ngrok-free.app\" -> \"http://localhost:8000\"\n",
            "https://07fb-35-185-109-182.ngrok-free.app\n"
          ]
        }
      ]
    },
    {
      "cell_type": "code",
      "source": [
        "!python manage.py makemigrations\n",
        "# Создаем суперюзера django"
      ],
      "metadata": {
        "colab": {
          "base_uri": "https://localhost:8080/"
        },
        "id": "4ovfZLXeebkT",
        "outputId": "250d2acb-0475-4e78-93b6-3513d1a530f4"
      },
      "execution_count": null,
      "outputs": [
        {
          "output_type": "stream",
          "name": "stdout",
          "text": [
            "No changes detected\n"
          ]
        }
      ]
    },
    {
      "cell_type": "code",
      "source": [
        "!python manage.py migrate"
      ],
      "metadata": {
        "colab": {
          "base_uri": "https://localhost:8080/"
        },
        "id": "Nt4FdovjimA8",
        "outputId": "60219a1f-e1d1-43ad-8159-e75f2b2ebed2"
      },
      "execution_count": null,
      "outputs": [
        {
          "output_type": "stream",
          "name": "stdout",
          "text": [
            "\u001b[36;1mOperations to perform:\u001b[0m\n",
            "\u001b[1m  Apply all migrations: \u001b[0madmin, auth, contenttypes, runningLine, sessions\n",
            "\u001b[36;1mRunning migrations:\u001b[0m\n",
            "  No migrations to apply.\n"
          ]
        }
      ]
    },
    {
      "cell_type": "code",
      "source": [
        "!echo \"from django.contrib.auth.models import User; User.objects.create_superuser('admin', 'admin@example.com', 'pass')\""
      ],
      "metadata": {
        "colab": {
          "base_uri": "https://localhost:8080/"
        },
        "id": "DHHLPAgZikgH",
        "outputId": "067c4bb3-da08-41e7-984b-d2d710e29a22"
      },
      "execution_count": null,
      "outputs": [
        {
          "output_type": "stream",
          "name": "stdout",
          "text": [
            "from django.contrib.auth.models import User; User.objects.create_superuser('admin', 'admin@example.com', 'pass')\n"
          ]
        }
      ]
    },
    {
      "cell_type": "code",
      "source": [
        "print(eval_js(\"google.colab.kernel.proxyPort(8000)\"))#переходите по этой ссылке"
      ],
      "metadata": {
        "id": "m3TgW-YHXWbq"
      },
      "execution_count": null,
      "outputs": []
    },
    {
      "cell_type": "code",
      "source": [
        "!python manage.py runserver"
      ],
      "metadata": {
        "colab": {
          "base_uri": "https://localhost:8080/"
        },
        "id": "tPdU2YHYjWKL",
        "outputId": "c8cebf9a-d94f-446a-d364-e325da8999fa"
      },
      "execution_count": null,
      "outputs": [
        {
          "output_type": "stream",
          "name": "stdout",
          "text": [
            "Watching for file changes with StatReloader\n",
            "Performing system checks...\n",
            "\n",
            "System check identified no issues (0 silenced).\n",
            "July 04, 2024 - 20:07:46\n",
            "Django version 5.0.6, using settings 'testTask.settings'\n",
            "Starting development server at http://127.0.0.1:8000/\n",
            "Quit the server with CONTROL-C.\n",
            "\n",
            "[04/Jul/2024 20:07:55] \u001b[m\"GET / HTTP/1.1\" 200 80\u001b[0m\n",
            "[04/Jul/2024 20:07:57] \u001b[m\"GET /favicon.ico HTTP/1.1\" 200 0\u001b[0m\n",
            "WRiting  asasas\n",
            "End wRiting  asasas\n",
            "[04/Jul/2024 20:08:08] \u001b[m\"GET /asasas HTTP/1.1\" 200 61\u001b[0m\n",
            "[04/Jul/2024 20:08:09] \u001b[m\"GET /favicon.ico HTTP/1.1\" 200 0\u001b[0m\n"
          ]
        }
      ]
    }
  ]
}