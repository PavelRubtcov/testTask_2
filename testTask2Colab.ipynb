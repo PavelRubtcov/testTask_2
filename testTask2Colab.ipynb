{
  "nbformat": 4,
  "nbformat_minor": 0,
  "metadata": {
    "colab": {
      "provenance": [],
      "authorship_tag": "ABX9TyNNH6WFkrZtxTV86ANjSsJU",
      "include_colab_link": true
    },
    "kernelspec": {
      "name": "python3",
      "display_name": "Python 3"
    },
    "language_info": {
      "name": "python"
    }
  },
  "cells": [
    {
      "cell_type": "markdown",
      "metadata": {
        "id": "view-in-github",
        "colab_type": "text"
      },
      "source": [
        "<a href=\"https://colab.research.google.com/github/PavelRubtcov/testTask_2/blob/main/testTask2Colab.ipynb\" target=\"_parent\"><img src=\"https://colab.research.google.com/assets/colab-badge.svg\" alt=\"Open In Colab\"/></a>"
      ]
    },
    {
      "cell_type": "markdown",
      "source": [
        "# TestTask"
      ],
      "metadata": {
        "id": "DHUTfoRZW1yt"
      }
    },
    {
      "cell_type": "code",
      "execution_count": 1,
      "metadata": {
        "id": "c5g3CmCIcN-r"
      },
      "outputs": [],
      "source": [
        "!pip install pyngrok --quiet"
      ]
    },
    {
      "cell_type": "code",
      "source": [
        "!git clone https://github.com/PavelRubtcov/testTask_2.git testTask_2\n"
      ],
      "metadata": {
        "colab": {
          "base_uri": "https://localhost:8080/"
        },
        "id": "Hi_7xDDecVYo",
        "outputId": "959e951f-626e-49e5-e8b7-3852e3c2b798"
      },
      "execution_count": 2,
      "outputs": [
        {
          "output_type": "stream",
          "name": "stdout",
          "text": [
            "Cloning into 'testTask_2'...\n",
            "remote: Enumerating objects: 60, done.\u001b[K\n",
            "remote: Counting objects: 100% (60/60), done.\u001b[K\n",
            "remote: Compressing objects: 100% (57/57), done.\u001b[K\n",
            "remote: Total 60 (delta 12), reused 0 (delta 0), pack-reused 0\u001b[K\n",
            "Receiving objects: 100% (60/60), 54.42 KiB | 857.00 KiB/s, done.\n",
            "Resolving deltas: 100% (12/12), done.\n"
          ]
        }
      ]
    },
    {
      "cell_type": "code",
      "source": [
        "!pip install -r /content/testTask_2/testTask_2/requires.txt"
      ],
      "metadata": {
        "colab": {
          "base_uri": "https://localhost:8080/"
        },
        "id": "BSvBLA3CceOl",
        "outputId": "6f086d58-d631-40ab-8e35-bbbb80f87117"
      },
      "execution_count": 1,
      "outputs": [
        {
          "output_type": "stream",
          "name": "stdout",
          "text": [
            "Requirement already satisfied: opencv-python==4.10.0.82 in /usr/local/lib/python3.10/dist-packages (from -r /content/testTask_2/testTask_2/requires.txt (line 1)) (4.10.0.82)\n",
            "Requirement already satisfied: numpy==1.25.0 in /usr/local/lib/python3.10/dist-packages (from -r /content/testTask_2/testTask_2/requires.txt (line 2)) (1.25.0)\n",
            "Requirement already satisfied: Django==5.0.6 in /usr/local/lib/python3.10/dist-packages (from -r /content/testTask_2/testTask_2/requires.txt (line 3)) (5.0.6)\n",
            "Requirement already satisfied: asgiref<4,>=3.7.0 in /usr/local/lib/python3.10/dist-packages (from Django==5.0.6->-r /content/testTask_2/testTask_2/requires.txt (line 3)) (3.8.1)\n",
            "Requirement already satisfied: sqlparse>=0.3.1 in /usr/local/lib/python3.10/dist-packages (from Django==5.0.6->-r /content/testTask_2/testTask_2/requires.txt (line 3)) (0.5.0)\n",
            "Requirement already satisfied: typing-extensions>=4 in /usr/local/lib/python3.10/dist-packages (from asgiref<4,>=3.7.0->Django==5.0.6->-r /content/testTask_2/testTask_2/requires.txt (line 3)) (4.12.2)\n"
          ]
        }
      ]
    },
    {
      "cell_type": "code",
      "source": [
        "%cd /content/testTask_2/testTask_2/testTask"
      ],
      "metadata": {
        "colab": {
          "base_uri": "https://localhost:8080/"
        },
        "id": "E3OsnylNd61F",
        "outputId": "07b35b38-8ec8-4106-d351-1fad070433dd"
      },
      "execution_count": 13,
      "outputs": [
        {
          "output_type": "stream",
          "name": "stdout",
          "text": [
            "/content/testTask_2/testTask_2/testTask\n"
          ]
        }
      ]
    },
    {
      "cell_type": "code",
      "source": [
        "from google.colab.output import eval_js\n",
        "print(eval_js(\"google.colab.kernel.proxyPort(8000)\"))\n",
        "\n",
        "from pyngrok import ngrok\n",
        "\n",
        "# получаем токен https://dashboard.ngrok.com/get-started/your-authtoken\n",
        "auth_token = \"2ihJE62GfVBLppi6MpKiKk65wKH_6mBtgKxoKbNNxFNbFvqWH\"\n",
        "ngrok.set_auth_token(auth_token)\n",
        "ngrok.kill()\n",
        "ngstart = ngrok.connect(8000)\n",
        "ngrock_public_url = ngstart.public_url # Это можно для чего-то использовать\n",
        "print(ngstart)\n",
        "print(ngrock_public_url)"
      ],
      "metadata": {
        "colab": {
          "base_uri": "https://localhost:8080/",
          "height": 71
        },
        "id": "pEkFSvZx-c-k",
        "outputId": "d8449fd9-f8df-491e-d24a-fdad99846e0e"
      },
      "execution_count": 4,
      "outputs": [
        {
          "output_type": "stream",
          "name": "stdout",
          "text": [
            "https://rsv1qgrghai-496ff2e9c6d22116-8000-colab.googleusercontent.com/\n",
            "NgrokTunnel: \"https://15ed-34-16-189-127.ngrok-free.app\" -> \"http://localhost:8000\"\n",
            "https://15ed-34-16-189-127.ngrok-free.app\n"
          ]
        }
      ]
    },
    {
      "cell_type": "code",
      "source": [
        "!python manage.py makemigrations\n",
        "# Создаем суперюзера django"
      ],
      "metadata": {
        "colab": {
          "base_uri": "https://localhost:8080/"
        },
        "id": "4ovfZLXeebkT",
        "outputId": "8a376ed6-6df9-45c1-a6db-cee4a62fc6d1"
      },
      "execution_count": 14,
      "outputs": [
        {
          "output_type": "stream",
          "name": "stdout",
          "text": [
            "manage.py\n",
            "No changes detected\n"
          ]
        }
      ]
    },
    {
      "cell_type": "code",
      "source": [
        "!python manage.py migrate"
      ],
      "metadata": {
        "colab": {
          "base_uri": "https://localhost:8080/"
        },
        "id": "Nt4FdovjimA8",
        "outputId": "f1a88960-8463-4bd2-a03e-93f199e316e6"
      },
      "execution_count": 15,
      "outputs": [
        {
          "output_type": "stream",
          "name": "stdout",
          "text": [
            "manage.py\n",
            "\u001b[36;1mOperations to perform:\u001b[0m\n",
            "\u001b[1m  Apply all migrations: \u001b[0madmin, auth, contenttypes, runningLine, sessions\n",
            "\u001b[36;1mRunning migrations:\u001b[0m\n",
            "  No migrations to apply.\n"
          ]
        }
      ]
    },
    {
      "cell_type": "code",
      "source": [
        "!echo \"from django.contrib.auth.models import User; User.objects.create_superuser('admin', 'admin@example.com', 'pass')\""
      ],
      "metadata": {
        "colab": {
          "base_uri": "https://localhost:8080/"
        },
        "id": "DHHLPAgZikgH",
        "outputId": "fc071ca9-93b9-4c52-c85f-d437053557b1"
      },
      "execution_count": 7,
      "outputs": [
        {
          "output_type": "stream",
          "name": "stdout",
          "text": [
            "from django.contrib.auth.models import User; User.objects.create_superuser('admin', 'admin@example.com', 'pass')\n"
          ]
        }
      ]
    },
    {
      "cell_type": "code",
      "source": [
        "print(eval_js(\"google.colab.kernel.proxyPort(8000)\"))#переходите по этой ссылке"
      ],
      "metadata": {
        "id": "m3TgW-YHXWbq",
        "outputId": "bf383241-a9c5-4bc9-ea0f-51a3d8226133",
        "colab": {
          "base_uri": "https://localhost:8080/",
          "height": 35
        }
      },
      "execution_count": 8,
      "outputs": [
        {
          "output_type": "stream",
          "name": "stdout",
          "text": [
            "https://rsv1qgrghai-496ff2e9c6d22116-8000-colab.googleusercontent.com/\n"
          ]
        }
      ]
    },
    {
      "cell_type": "code",
      "source": [
        "!python /content/testTask_2/testTask_2/testTask/manage.py runserver"
      ],
      "metadata": {
        "colab": {
          "base_uri": "https://localhost:8080/"
        },
        "id": "tPdU2YHYjWKL",
        "outputId": "7dd6bebb-0291-4068-a49d-79e6876e1581"
      },
      "execution_count": 16,
      "outputs": [
        {
          "output_type": "stream",
          "name": "stdout",
          "text": [
            "manage.py\n",
            "manage.py\n",
            "Watching for file changes with StatReloader\n",
            "Performing system checks...\n",
            "\n",
            "System check identified no issues (0 silenced).\n",
            "July 12, 2024 - 17:38:10\n",
            "Django version 5.0.6, using settings 'testTask.settings'\n",
            "Starting development server at http://127.0.0.1:8000/\n",
            "Quit the server with CONTROL-C.\n",
            "\n"
          ]
        }
      ]
    }
  ]
}